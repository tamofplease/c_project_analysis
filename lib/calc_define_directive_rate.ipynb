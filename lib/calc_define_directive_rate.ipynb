{
 "cells": [
  {
   "cell_type": "code",
   "execution_count": 1,
   "metadata": {},
   "outputs": [],
   "source": [
    "from os import path\n",
    "import pandas as pd\n",
    "from glob import glob\n",
    "from util.table_converter import TableConverter, TableProps;\n",
    "from generator.constant import Constant"
   ]
  },
  {
   "cell_type": "code",
   "execution_count": 2,
   "metadata": {},
   "outputs": [],
   "source": [
    "target_project_names = list(map(lambda s : s.split('/')[-1].split('.')[0], glob('../compile_information/*.json')))\n",
    "target_project_names.remove('template')\n",
    "target_project_names.remove('compile_information')\n",
    "\n",
    "target_project_root_paths = [Constant.local_project_root_path + '/' + tpn for tpn in target_project_names]\n",
    "\n",
    "project_root_path = Constant.output_root_path + '/' + 'project.csv'\n",
    "project_df = pd.read_csv(project_root_path)\n",
    "\n",
    "file_root_path = Constant.output_root_path + '/' + 'file.csv'\n",
    "file_df = pd.read_csv(file_root_path)\n",
    "\n",
    "available_macro_root_path = Constant.output_root_path + '/' + 'available_macros.csv'\n",
    "available_macro_df = pd.read_csv(available_macro_root_path)\n",
    "\n",
    "used_macro_root_path = Constant.output_root_path + '/' + 'used_macros.csv'\n",
    "used_macro_df = pd.read_csv(used_macro_root_path)\n",
    "\n",
    "defined_macro_root_path = Constant.output_root_path + '/' + 'defined_macros.csv'\n",
    "defined_macro_df = pd.read_csv(defined_macro_root_path)\n",
    "\n",
    "whole_macro_root_path = Constant.output_root_path + '/' + 'whole_macros.csv'\n",
    "whole_macro_df = pd.read_csv(whole_macro_root_path)\n",
    "\n",
    "macros_root_path =Constant.output_root_path + '/' + 'macros.csv'\n",
    "macros_df = pd.read_csv(macros_root_path)\n",
    "\n",
    "tvc = TableConverter()\n"
   ]
  },
  {
   "cell_type": "code",
   "execution_count": 12,
   "metadata": {},
   "outputs": [],
   "source": [
    "def calc_define_directive_rate():\n",
    "    columns = pd.Series(['project name', 'file num', 'target file num', 'rate'])\n",
    "    macro_per_files_count = defined_macro_df.groupby(['file_id']).count().sort_values(['macro_id'], ascending=False)\n",
    "    file_macro_count_df = pd.merge(macro_per_files_count, file_df, on='file_id', how='left')\n",
    "    file_macro_df = pd.merge(defined_macro_df, file_df, on='file_id', how='left')\n",
    "    del file_macro_count_df['name']\n",
    "    del file_macro_count_df['path']\n",
    "    del file_macro_count_df['id']\n",
    "    del file_macro_df['name']\n",
    "    del file_macro_df['path']\n",
    "    del file_macro_df['id']\n",
    "    target_p_names = project_df[['project_id', 'name']]\n",
    "    rows = []\n",
    "    for _, dt in target_p_names.iterrows():\n",
    "        if not dt['name'] in target_project_names:\n",
    "            continue\n",
    "        row = [dt['name']]\n",
    "        filterd_file_df = file_df[file_df['project_id'] == dt['project_id']]\n",
    "        target_filterd_file_df = file_macro_count_df[file_macro_count_df['project_id'] == dt['project_id']]\n",
    "        row += [\n",
    "            len(filterd_file_df),\n",
    "            len(target_filterd_file_df),\n",
    "            round(len(target_filterd_file_df) / len(filterd_file_df), 4)\n",
    "        ]\n",
    "        rows.append(row)\n",
    "    return pd.DataFrame(rows, columns=columns)\n",
    "\n",
    "def calc_used_macro_rate():\n",
    "    columns = pd.Series(['project name', 'file num', 'target file num', 'rate'])\n",
    "    macro_per_files_count = used_macro_df.groupby(['file_id']).count().sort_values(['macro_id'], ascending=False)\n",
    "    file_macro_count_df = pd.merge(macro_per_files_count, file_df, on='file_id', how='left')\n",
    "    file_macro_df = pd.merge(used_macro_df, file_df, on='file_id', how='left')\n",
    "    del file_macro_count_df['name']\n",
    "    del file_macro_count_df['path']\n",
    "    del file_macro_count_df['id']\n",
    "    del file_macro_df['name']\n",
    "    del file_macro_df['path']\n",
    "    del file_macro_df['id']\n",
    "    target_p_names = project_df[['project_id', 'name']]\n",
    "    rows = []\n",
    "    for _, dt in target_p_names.iterrows():\n",
    "        if not dt['name'] in target_project_names:\n",
    "            continue\n",
    "        row = [dt['name']]\n",
    "        filterd_file_df = file_df[file_df['project_id'] == dt['project_id']]\n",
    "        target_filterd_file_df = file_macro_count_df[file_macro_count_df['project_id'] == dt['project_id']]\n",
    "        row += [\n",
    "            len(filterd_file_df),\n",
    "            len(target_filterd_file_df),\n",
    "            round(len(target_filterd_file_df) / len(filterd_file_df), 4)\n",
    "        ]\n",
    "        rows.append(row)\n",
    "    return pd.DataFrame(rows, columns=columns)"
   ]
  },
  {
   "cell_type": "markdown",
   "metadata": {},
   "source": [
    "## Define Macro rate of each files"
   ]
  },
  {
   "cell_type": "code",
   "execution_count": 16,
   "metadata": {},
   "outputs": [
    {
     "name": "stdout",
     "output_type": "stream",
     "text": [
      "  project name  file num  target file num    rate\n",
      "0      radare2      1888              957  0.5069\n",
      "1        nginx       343              178  0.5190\n",
      "2     goaccess        70               19  0.2714\n",
      "3          nnn        10                9  0.9000\n",
      "4          ish       216              116  0.5370\n",
      "5       brotli        93               69  0.7419\n"
     ]
    }
   ],
   "source": [
    "target_df = calc_define_directive_rate()\n",
    "tvc.save_as_table(TableProps(title='appearance of define directive in each project', file_name='appearance_of_define_directive_in_each_project', data=target_df))\n",
    "print(target_df)"
   ]
  },
  {
   "cell_type": "markdown",
   "metadata": {},
   "source": [
    "## Used Macro rate of each files"
   ]
  },
  {
   "cell_type": "code",
   "execution_count": 17,
   "metadata": {},
   "outputs": [
    {
     "name": "stdout",
     "output_type": "stream",
     "text": [
      "  project name  file num  target file num    rate\n",
      "0      radare2      1888             1339  0.7092\n",
      "1        nginx       343              271  0.7901\n",
      "2     goaccess        70               30  0.4286\n",
      "3          nnn        10                3  0.3000\n",
      "4          ish       216              121  0.5602\n",
      "5       brotli        93               62  0.6667\n"
     ]
    }
   ],
   "source": [
    "target_df = calc_used_macro_rate()\n",
    "tvc.save_as_table(TableProps(title='frequcncy of macro use file in each project', file_name='frequency_of_macro_use_file_in_each_project', data=target_df))\n",
    "print(target_df)"
   ]
  },
  {
   "cell_type": "code",
   "execution_count": null,
   "metadata": {},
   "outputs": [],
   "source": []
  }
 ],
 "metadata": {
  "kernelspec": {
   "display_name": "Python 3.10.3 ('.venv': venv)",
   "language": "python",
   "name": "python3"
  },
  "language_info": {
   "codemirror_mode": {
    "name": "ipython",
    "version": 3
   },
   "file_extension": ".py",
   "mimetype": "text/x-python",
   "name": "python",
   "nbconvert_exporter": "python",
   "pygments_lexer": "ipython3",
   "version": "3.10.3"
  },
  "orig_nbformat": 4,
  "vscode": {
   "interpreter": {
    "hash": "cc3637f54e9abe6a6c55a0c8eaadc317a52a5ae15cdac0779c5fe90977694b15"
   }
  }
 },
 "nbformat": 4,
 "nbformat_minor": 2
}
