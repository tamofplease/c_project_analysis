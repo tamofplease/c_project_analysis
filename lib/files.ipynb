{
 "cells": [
  {
   "cell_type": "code",
   "execution_count": 1,
   "metadata": {},
   "outputs": [],
   "source": [
    "import sys\n",
    "sys.path.append('./')\n",
    "from os import path\n",
    "import pandas as pd\n",
    "import matplotlib.pyplot as plt\n",
    "from glob import glob\n",
    "from util.table_converter import TableConverter, TableProps;\n",
    "from generator.constant import Constant\n",
    "from statistics import mean, median, variance, stdev"
   ]
  },
  {
   "cell_type": "code",
   "execution_count": 3,
   "metadata": {},
   "outputs": [],
   "source": [
    "target_project_names = list(map(lambda s : s.split('/')[-1].split('.')[0], glob('../compile_information/*.json')))\n",
    "target_project_names.remove('template')\n",
    "target_project_names.remove('compile_information')\n",
    "\n",
    "target_project_root_paths = [Constant.local_project_root_path + '/' + tpn for tpn in target_project_names]\n",
    "\n",
    "project_root_path = Constant.output_root_path + '/' + 'project.csv'\n",
    "project_df = pd.read_csv(project_root_path)\n",
    "\n",
    "file_root_path = Constant.output_root_path + '/' + 'file.csv'\n",
    "file_df = pd.read_csv(file_root_path)\n",
    "\n",
    "available_macro_root_path = Constant.output_root_path + '/' + 'available_macros.csv'\n",
    "available_macro_df = pd.read_csv(available_macro_root_path)\n",
    "\n",
    "used_macro_root_path = Constant.output_root_path + '/' + 'used_macros.csv'\n",
    "used_macro_df = pd.read_csv(used_macro_root_path)\n",
    "\n",
    "defined_macro_root_path = Constant.output_root_path + '/' + 'defined_macros.csv'\n",
    "defined_macro_df = pd.read_csv(defined_macro_root_path)\n",
    "\n",
    "# whole_macro_root_path = Constant.output_root_path + '/' + 'whole_macros.csv'\n",
    "# whole_macro_df = pd.read_csv(whole_macro_root_path)\n",
    "\n",
    "macros_root_path =Constant.output_root_path + '/' + 'macros.csv'\n",
    "macros_df = pd.read_csv(macros_root_path)\n",
    "\n",
    "tvc = TableConverter()\n",
    "\n",
    "plt.rcParams['font.family'] = 'Hiragino Maru Gothic Pro'\n"
   ]
  },
  {
   "cell_type": "markdown",
   "metadata": {},
   "source": [
    "## Loc of each files"
   ]
  },
  {
   "cell_type": "code",
   "execution_count": null,
   "metadata": {},
   "outputs": [],
   "source": [
    "from os import path\n",
    "import pandas as pd\n",
    "from glob import glob\n",
    "from util.table_converter import TableConverter, TableProps;\n",
    "from generator.constant import Constant\n",
    "\n",
    "target_project_names = list(map(lambda s : s.split('/')[-1].split('.')[0], glob('../compile_information/*.json')))\n",
    "\n",
    "local_project_root_path = Constant.local_project_root_path\n",
    "\n",
    "c_file_loc_df = pd.DataFrame(columns=['project_name', 'sum', 'file_num', 'average'])\n",
    "\n",
    "for target_project_name in target_project_names:\n",
    "    target_project_root = local_project_root_path + '/' + target_project_name\n",
    "    if not path.exists(target_project_root):\n",
    "        continue\n",
    "    c_files = glob('{}/**/*.c'.format(target_project_root), recursive=True)\n",
    "\n",
    "    s = 0\n",
    "    for file_path in c_files:\n",
    "        with open (file_path, mode='r') as f:\n",
    "            s += len(f.readlines())\n",
    "    a = s / len(c_files)\n",
    "    fn = len(c_files)\n",
    "    c_file_loc_df = pd.concat([c_file_loc_df, pd.DataFrame([[target_project_name, s, fn, a]], columns=c_file_loc_df.columns)], ignore_index=True)\n",
    "\n",
    "\n",
    "\n",
    "tvc = TableConverter()\n",
    "tvc.save_as_table(TableProps(title=\"C file loc\", file_name=\"c_file_loc\", data=c_file_loc_df))\n",
    "\n",
    "\n"
   ]
  },
  {
   "cell_type": "code",
   "execution_count": 5,
   "metadata": {},
   "outputs": [],
   "source": [
    "def show_with_boxplot(macro_df, title, x_label, y_label, normalize=False):\n",
    "    macro_per_files_count = macro_df.groupby(['file_id']).count().sort_values(['macro_id'], ascending=False)\n",
    "    file_macro_df = pd.merge(macro_df, file_df, on='file_id', how='left')\n",
    "    file_macro_cnt_df = pd.merge(macro_per_files_count, file_df, on='file_id', how='left')\n",
    "    del file_macro_cnt_df['name']\n",
    "    del file_macro_cnt_df['path']\n",
    "    del file_macro_cnt_df['id']\n",
    "    del file_macro_df['name']\n",
    "    del file_macro_df['path']\n",
    "    del file_macro_df['id']\n",
    "\n",
    "    id_name_mapper = {i[0]: i[1] for t, i in project_df.iterrows()}\n",
    "\n",
    "    data = dict()\n",
    "    target_p_names = project_df[['project_id', 'name']]\n",
    "    cnts = []\n",
    "        \n",
    "    for _, dt in target_p_names.iterrows():\n",
    "        if not dt['name'] in id_name_mapper.values():\n",
    "            continue\n",
    "        filterd_cnt_id = file_macro_cnt_df[file_macro_cnt_df['project_id'] == dt['project_id']]\n",
    "        filterd_id = file_macro_df[file_macro_df['project_id'] == dt['project_id']]\n",
    "        if not len(filterd_cnt_id):\n",
    "            continue\n",
    "        cnts.append(len(filterd_cnt_id))\n",
    "        if normalize:\n",
    "            filterd_macro_cnt = len(pd.unique(filterd_id['macro_id']))\n",
    "            data[dt['name']] = filterd_cnt_id['macro_id'].div(filterd_macro_cnt)\n",
    "        else:\n",
    "            data[dt['name']] = filterd_cnt_id['macro_id']\n",
    "    project_file_available_macro_df = pd.DataFrame(data, columns=project_df['name'].unique())\n",
    "    bxplt = project_file_available_macro_df.boxplot(return_type='axes')\n",
    "    bxplt.set_title(title)\n",
    "    bxplt.set_ylabel(y_label)\n",
    "    bxplt.set_xlabel(x_label)\n",
    "    if normalize:\n",
    "        bxplt.set_yscale('log')"
   ]
  },
  {
   "cell_type": "markdown",
   "metadata": {},
   "source": [
    "## Number of Used Macro in each File"
   ]
  },
  {
   "cell_type": "code",
   "execution_count": null,
   "metadata": {},
   "outputs": [],
   "source": [
    "import pandas as pd\n",
    "from util.table_converter import TableConverter, TableProps;\n",
    "from generator.constant import Constant\n",
    "\n",
    "used_macro_root_path = Constant.output_root_path + '/' + 'used_macros.csv'\n",
    "files_root_path = Constant.output_root_path + '/' + 'file.csv'\n",
    "\n",
    "used_macros_df = pd.read_csv(used_macro_root_path)\n",
    "files_df = pd.read_csv(files_root_path)\n",
    "\n",
    "\n",
    "used_macro_per_files_count = used_macros_df.groupby(['file_id']).count().sort_values(['macro_id'], ascending=False)[:20]\n",
    "\n",
    "file_used_macro_df = pd.merge(used_macro_per_files_count, files_df, on='file_id', how='left')\n",
    "\n",
    "\n",
    "tvc = TableConverter()\n",
    "tvc.save_as_table(TableProps(title=\"used_macro_count per files\", file_name=\"used_macro_cnt\", data=file_used_macro_df))\n",
    "\n",
    "\n"
   ]
  },
  {
   "cell_type": "markdown",
   "metadata": {},
   "source": [
    "##  available macros in each files\n"
   ]
  },
  {
   "cell_type": "code",
   "execution_count": null,
   "metadata": {},
   "outputs": [],
   "source": [
    "import pandas as pd\n",
    "from util.table_converter import TableConverter, TableProps;\n",
    "from generator.constant import Constant\n",
    "\n",
    "available_macro_root_path = Constant.output_root_path + '/' + 'available_macros.csv'\n",
    "files_root_path = Constant.output_root_path + '/' + 'file.csv'\n",
    "\n",
    "available_macros_df = pd.read_csv(available_macro_root_path)\n",
    "files_df = pd.read_csv(files_root_path)\n",
    "\n",
    "\n",
    "available_macro_per_files_count = available_macros_df.groupby(['file_id']).count().sort_values(['macro_id'], ascending=False)[:20]\n",
    "\n",
    "file_available_macro_df = pd.merge(available_macro_per_files_count, files_df, on='file_id', how='left')\n",
    "\n",
    "\n",
    "tvc = TableConverter()\n",
    "tvc.save_as_table(TableProps(title=\"available_macro_count per files\", file_name=\"available_macro_cnt\", data=file_available_macro_df))\n",
    "\n",
    "\n"
   ]
  },
  {
   "cell_type": "markdown",
   "metadata": {},
   "source": [
    "## Whole macros in Each files(Wtih boxplot)"
   ]
  },
  {
   "cell_type": "code",
   "execution_count": null,
   "metadata": {},
   "outputs": [],
   "source": [
    "show_with_boxplot(whole_macro_df, \"Whole Macros in Each files\", \"ProjectName\", \"number\")"
   ]
  },
  {
   "cell_type": "code",
   "execution_count": null,
   "metadata": {},
   "outputs": [],
   "source": [
    "show_with_boxplot(whole_macro_df, \"Whole Macros in Each files(normalized)\", \"ProjectName\", \"number\", normalize=True)"
   ]
  },
  {
   "cell_type": "markdown",
   "metadata": {},
   "source": [
    "## used macros in Each files(with boxplot)"
   ]
  },
  {
   "cell_type": "code",
   "execution_count": null,
   "metadata": {},
   "outputs": [],
   "source": [
    "show_with_boxplot(used_macro_df, \"展開マクロの分布\", \"プロジェクト名\", \"各ファイルにおけるマクロ展開数\")"
   ]
  },
  {
   "cell_type": "code",
   "execution_count": null,
   "metadata": {},
   "outputs": [],
   "source": [
    "show_with_boxplot(used_macro_df, \"Used Macros in Each files(normalize)\", \"ProjectName\", \"number\", normalize=True)"
   ]
  },
  {
   "cell_type": "markdown",
   "metadata": {},
   "source": [
    "## available macros in each files(with boxplot)\n"
   ]
  },
  {
   "cell_type": "code",
   "execution_count": null,
   "metadata": {},
   "outputs": [],
   "source": [
    "show_with_boxplot(available_macro_df, \"定義済みマクロの分布\", \"プロジェクト名\", \"各ファイルにおける定義済みマクロ数\")"
   ]
  },
  {
   "cell_type": "code",
   "execution_count": null,
   "metadata": {},
   "outputs": [],
   "source": [
    "show_with_boxplot(available_macro_df, \"Available Macros in Each files(normalize)\", \"ProjectName\", \"number\", normalize=True)"
   ]
  },
  {
   "cell_type": "markdown",
   "metadata": {},
   "source": [
    "## define macros in each files(with boxplot)\n"
   ]
  },
  {
   "cell_type": "code",
   "execution_count": null,
   "metadata": {},
   "outputs": [],
   "source": [
    "show_with_boxplot(defined_macro_df, \"マクロ定義の分布\", \"プロジェクト名\", \"各ファイルにおけるマクロ定義数\")"
   ]
  },
  {
   "cell_type": "code",
   "execution_count": null,
   "metadata": {},
   "outputs": [],
   "source": [
    "show_with_boxplot(defined_macro_df, \"Define Macros in Each files(normalize)\", \"ProjectName\", \"number\", normalize=True)"
   ]
  },
  {
   "cell_type": "code",
   "execution_count": null,
   "metadata": {},
   "outputs": [],
   "source": [
    "show_with_boxplot(whole_macro_df, \"Whole Macros in Each files\", \"ProjectName\", \"number\")"
   ]
  },
  {
   "cell_type": "code",
   "execution_count": null,
   "metadata": {},
   "outputs": [],
   "source": [
    "show_with_boxplot(whole_macro_df, \"Whole Macros in Each files(normalize)\", \"ProjectName\", \"number\", normalize=True)"
   ]
  },
  {
   "cell_type": "markdown",
   "metadata": {},
   "source": [
    "## BoxPlot of defined macros"
   ]
  },
  {
   "cell_type": "code",
   "execution_count": 11,
   "metadata": {},
   "outputs": [
    {
     "data": {
      "image/png": "[encoded data removed]",
      "text/plain": [
       "<Figure size 640x480 with 1 Axes>"
      ]
     },
     "metadata": {},
     "output_type": "display_data"
    }
   ],
   "source": [
    "show_with_boxplot(defined_macro_df, \"Distribution of macro define number in each project\", \"Project Name\", \"Number of macro define in each file\")"
   ]
  },
  {
   "cell_type": "code",
   "execution_count": 6,
   "metadata": {},
   "outputs": [
    {
     "data": {
      "image/png": "[encoded data removed]",
      "text/plain": [
       "<Figure size 432x288 with 1 Axes>"
      ]
     },
     "metadata": {
      "needs_background": "light"
     },
     "output_type": "display_data"
    }
   ],
   "source": [
    "show_with_boxplot(defined_macro_df, \"Distribution of macro define number in each project\", \"Project Name\", \"Number of macro define in each file\")"
   ]
  },
  {
   "cell_type": "code",
   "execution_count": null,
   "metadata": {},
   "outputs": [],
   "source": []
  }
 ],
 "metadata": {
  "kernelspec": {
   "display_name": "Python 3.9.13 ('.venv': venv)",
   "language": "python",
   "name": "python3"
  },
  "language_info": {
   "codemirror_mode": {
    "name": "ipython",
    "version": 3
   },
   "file_extension": ".py",
   "mimetype": "text/x-python",
   "name": "python",
   "nbconvert_exporter": "python",
   "pygments_lexer": "ipython3",
   "version": "3.10.3"
  },
  "orig_nbformat": 4,
  "vscode": {
   "interpreter": {
    "hash": "271ff027a37cd56aba66bd5e709e5a074ab185bb41981163efbf7c974e3e0d54"
   }
  }
 },
 "nbformat": 4,
 "nbformat_minor": 2
}
