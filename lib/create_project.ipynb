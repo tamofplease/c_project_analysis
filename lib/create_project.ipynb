{
 "cells": [
  {
   "cell_type": "code",
   "execution_count": 2,
   "metadata": {},
   "outputs": [
    {
     "ename": "ModuleNotFoundError",
     "evalue": "No module named 'repository'",
     "output_type": "error",
     "traceback": [
      "\u001b[0;31m---------------------------------------------------------------------------\u001b[0m",
      "\u001b[0;31mModuleNotFoundError\u001b[0m                       Traceback (most recent call last)",
      "\u001b[1;32m/Users/tamofplease/Workspace/research/c_project_analysis/lib/create_project.ipynb Cell 1\u001b[0m in \u001b[0;36m<cell line: 1>\u001b[0;34m()\u001b[0m\n\u001b[0;32m----> <a href='vscode-notebook-cell:/Users/tamofplease/Workspace/research/c_project_analysis/lib/create_project.ipynb#ch0000000?line=0'>1</a>\u001b[0m \u001b[39mfrom\u001b[39;00m \u001b[39mgenerator\u001b[39;00m\u001b[39m.\u001b[39;00m\u001b[39mservice\u001b[39;00m \u001b[39mimport\u001b[39;00m ProjectService\n",
      "File \u001b[0;32m~/Workspace/research/c_project_analysis/lib/generator/service.py:2\u001b[0m, in \u001b[0;36m<module>\u001b[0;34m\u001b[0m\n\u001b[1;32m      1\u001b[0m \u001b[39mfrom\u001b[39;00m \u001b[39mtqdm\u001b[39;00m \u001b[39mimport\u001b[39;00m tqdm\n\u001b[0;32m----> 2\u001b[0m \u001b[39mfrom\u001b[39;00m \u001b[39mrepository\u001b[39;00m \u001b[39mimport\u001b[39;00m (\n\u001b[1;32m      3\u001b[0m     project_repository,\n\u001b[1;32m      4\u001b[0m     file_repository,\n\u001b[1;32m      5\u001b[0m     macro_repository,\n\u001b[1;32m      6\u001b[0m     whole_macro_repository,\n\u001b[1;32m      7\u001b[0m     define_macro_repository,\n\u001b[1;32m      8\u001b[0m     available_macro_repository,\n\u001b[1;32m      9\u001b[0m     used_macro_repository,\n\u001b[1;32m     10\u001b[0m     ProjectRepository,\n\u001b[1;32m     11\u001b[0m     FileRepository,\n\u001b[1;32m     12\u001b[0m     MacroRepository,\n\u001b[1;32m     13\u001b[0m     WholeMacroRepository,\n\u001b[1;32m     14\u001b[0m     DefineMacroRepository,\n\u001b[1;32m     15\u001b[0m     AvailableMacroRepository,\n\u001b[1;32m     16\u001b[0m     UsedMacroRepository,\n\u001b[1;32m     17\u001b[0m )\n\u001b[1;32m     18\u001b[0m \u001b[39mfrom\u001b[39;00m \u001b[39mentity\u001b[39;00m \u001b[39mimport\u001b[39;00m (\n\u001b[1;32m     19\u001b[0m     ProjectEntity,\n\u001b[1;32m     20\u001b[0m     FileEntity,\n\u001b[0;32m   (...)\u001b[0m\n\u001b[1;32m     25\u001b[0m     UsedMacroEntity\n\u001b[1;32m     26\u001b[0m )\n\u001b[1;32m     29\u001b[0m \u001b[39mclass\u001b[39;00m \u001b[39mProjectService\u001b[39;00m:\n",
      "\u001b[0;31mModuleNotFoundError\u001b[0m: No module named 'repository'"
     ]
    }
   ],
   "source": [
    "from generator.service import ProjectService\n"
   ]
  },
  {
   "cell_type": "code",
   "execution_count": null,
   "metadata": {},
   "outputs": [],
   "source": []
  }
 ],
 "metadata": {
  "kernelspec": {
   "display_name": "Python 3.9.13 ('.venv': venv)",
   "language": "python",
   "name": "python3"
  },
  "language_info": {
   "codemirror_mode": {
    "name": "ipython",
    "version": 3
   },
   "file_extension": ".py",
   "mimetype": "text/x-python",
   "name": "python",
   "nbconvert_exporter": "python",
   "pygments_lexer": "ipython3",
   "version": "3.10.3"
  },
  "orig_nbformat": 4,
  "vscode": {
   "interpreter": {
    "hash": "271ff027a37cd56aba66bd5e709e5a074ab185bb41981163efbf7c974e3e0d54"
   }
  }
 },
 "nbformat": 4,
 "nbformat_minor": 2
}
