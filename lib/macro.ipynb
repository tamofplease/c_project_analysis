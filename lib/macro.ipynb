{
 "cells": [
  {
   "cell_type": "code",
   "execution_count": 1,
   "metadata": {},
   "outputs": [],
   "source": [
    "from os import path\n",
    "import pandas as pd\n",
    "from glob import glob\n",
    "from util.table_converter import TableConverter, TableProps;\n",
    "from generator.constant import Constant\n",
    "from statistics import mean, median, variance, stdev"
   ]
  },
  {
   "cell_type": "code",
   "execution_count": 2,
   "metadata": {},
   "outputs": [],
   "source": [
    "target_project_names = list(map(lambda s : s.split('/')[-1].split('.')[0], glob('../compile_information/*.json')))\n",
    "target_project_names.remove('template')\n",
    "target_project_names.remove('compile_information')\n",
    "\n",
    "target_project_root_paths = [Constant.local_project_root_path + '/' + tpn for tpn in target_project_names]\n",
    "\n",
    "project_root_path = Constant.output_root_path + '/' + 'project.csv'\n",
    "project_df = pd.read_csv(project_root_path)\n",
    "\n",
    "file_root_path = Constant.output_root_path + '/' + 'file.csv'\n",
    "file_df = pd.read_csv(file_root_path)\n",
    "\n",
    "available_macro_root_path = Constant.output_root_path + '/' + 'available_macros.csv'\n",
    "available_macro_df = pd.read_csv(available_macro_root_path)\n",
    "\n",
    "used_macro_root_path = Constant.output_root_path + '/' + 'used_macros.csv'\n",
    "used_macro_df = pd.read_csv(used_macro_root_path)\n",
    "\n",
    "defined_macro_root_path = Constant.output_root_path + '/' + 'defined_macros.csv'\n",
    "defined_macro_df = pd.read_csv(defined_macro_root_path)\n",
    "\n",
    "whole_macro_root_path = Constant.output_root_path + '/' + 'whole_macros.csv'\n",
    "whole_macro_df = pd.read_csv(whole_macro_root_path)\n",
    "\n",
    "macros_root_path =Constant.output_root_path + '/' + 'macros.csv'\n",
    "macros_df = pd.read_csv(macros_root_path)\n",
    "\n",
    "tvc = TableConverter()\n"
   ]
  },
  {
   "cell_type": "code",
   "execution_count": 3,
   "metadata": {},
   "outputs": [],
   "source": [
    "def show_number_in_each_file(macro_df):\n",
    "    columns = pd.Series(['project name', 'file num', 'variaty of macro num', 'mean', 'median', 'variance', 'stdev'])\n",
    "    macro_per_files_count = macro_df.groupby(['file_id']).count().sort_values(['macro_id'], ascending=False)\n",
    "    file_macro_count_df = pd.merge(macro_per_files_count, file_df, on='file_id', how='left')\n",
    "    file_macro_df = pd.merge(macro_df, file_df, on='file_id', how='left')\n",
    "    del file_macro_count_df['name']\n",
    "    del file_macro_count_df['path']\n",
    "    del file_macro_count_df['id']\n",
    "    del file_macro_df['name']\n",
    "    del file_macro_df['path']\n",
    "    del file_macro_df['id']\n",
    "    target_p_names = project_df[['project_id', 'name']]\n",
    "    rows = []\n",
    "    for _, dt in target_p_names.iterrows():\n",
    "        if not dt['name'] in target_project_names:\n",
    "            continue\n",
    "        row = [dt['name']]\n",
    "        filterd_count_df = file_macro_count_df[file_macro_count_df['project_id'] == dt['project_id']]\n",
    "        filterd_df = file_macro_df[file_macro_df['project_id'] == dt['project_id']]\n",
    "        data = filterd_count_df['macro_id']\n",
    "        valid_digits = min(len(str(max(data))), len(str(len(filterd_count_df))))\n",
    "        row += [\n",
    "            len(data),\n",
    "            len(pd.unique(filterd_df['macro_id'])),\n",
    "            round(mean(data), valid_digits), \n",
    "            round(median(data), valid_digits), \n",
    "            round(variance(data), valid_digits), \n",
    "            round(stdev(data), valid_digits)\n",
    "        ]\n",
    "        rows.append(row)\n",
    "    return pd.DataFrame(rows, columns=columns)"
   ]
  },
  {
   "cell_type": "markdown",
   "metadata": {},
   "source": [
    "## Infomation of Available Macros"
   ]
  },
  {
   "cell_type": "code",
   "execution_count": 4,
   "metadata": {},
   "outputs": [
    {
     "name": "stdout",
     "output_type": "stream",
     "text": [
      "  project name  file num  variaty of macro num       mean  median  \\\n",
      "0      radare2      1727                 30105  3492.5298  4006.0   \n",
      "1        nginx       339                 26256  5545.0410  5708.0   \n",
      "2     goaccess        39                  4181  1965.5600  2004.0   \n",
      "3          nnn         9                  9324  1802.7000  1310.0   \n",
      "4          ish       167                  9064  2077.8320  1638.0   \n",
      "5       brotli        88                  2336   936.8200  1018.0   \n",
      "\n",
      "       variance      stdev  \n",
      "0  3.884547e+06  1970.9254  \n",
      "1  2.369480e+06  1539.3120  \n",
      "2  6.885119e+05   829.7700  \n",
      "3  2.323378e+06  1524.3000  \n",
      "4  1.498494e+06  1224.1300  \n",
      "5  1.209509e+05   347.7800  \n"
     ]
    }
   ],
   "source": [
    "available_info_df = show_number_in_each_file(available_macro_df)\n",
    "tvc.save_as_table(TableProps(title='available macro per file info', file_name='available_macro_info', data=available_info_df))\n",
    "print(available_info_df)"
   ]
  },
  {
   "cell_type": "markdown",
   "metadata": {},
   "source": [
    "## Information of Whole Macros"
   ]
  },
  {
   "cell_type": "code",
   "execution_count": 5,
   "metadata": {},
   "outputs": [
    {
     "name": "stdout",
     "output_type": "stream",
     "text": [
      "  project name  file num  variaty of macro num       mean  median  \\\n",
      "0      radare2      1727                 30411  3519.2693  4040.0   \n",
      "1        nginx       339                 26331  5590.4400  5758.0   \n",
      "2     goaccess        39                  4207  1978.6900  2028.0   \n",
      "3          nnn         9                  9348  1805.9000  1312.0   \n",
      "4          ish       167                  9152  2083.9940  1640.0   \n",
      "5       brotli        88                  2432   946.7200  1022.0   \n",
      "\n",
      "       variance      stdev  \n",
      "0  3.945235e+06  1986.2616  \n",
      "1  2.400397e+06  1549.3220  \n",
      "2  7.014283e+05   837.5100  \n",
      "3  2.334693e+06  1528.0000  \n",
      "4  1.509682e+06  1228.6910  \n",
      "5  1.255317e+05   354.3000  \n"
     ]
    }
   ],
   "source": [
    "whole_info_df = show_number_in_each_file(whole_macro_df)\n",
    "tvc.save_as_table(TableProps(title='whole macro per file info', file_name='whole_macro_info', data=whole_info_df))\n",
    "print(whole_info_df)"
   ]
  },
  {
   "cell_type": "markdown",
   "metadata": {},
   "source": [
    "## Information of Defined Macros"
   ]
  },
  {
   "cell_type": "code",
   "execution_count": 6,
   "metadata": {},
   "outputs": [
    {
     "name": "stdout",
     "output_type": "stream",
     "text": [
      "  project name  file num  variaty of macro num     mean  median     variance  \\\n",
      "0      radare2       957                 20020   27.421     4.0    17174.409   \n",
      "1        nginx       178                  1489   10.618     3.0      338.283   \n",
      "2     goaccess        19                   389   21.790     4.0     3023.510   \n",
      "3          nnn         9                  4193  467.200    10.0  1505941.700   \n",
      "4          ish       116                  1543   15.302     3.0     1444.717   \n",
      "5       brotli        69                   330    7.350     2.0      259.410   \n",
      "\n",
      "      stdev  \n",
      "0   131.051  \n",
      "1    18.392  \n",
      "2    54.990  \n",
      "3  1227.200  \n",
      "4    38.009  \n",
      "5    16.110  \n"
     ]
    }
   ],
   "source": [
    "defined_macro_info_df = show_number_in_each_file(defined_macro_df)\n",
    "tvc.save_as_table(TableProps(title='defined macro per file info', file_name='defined_macro_info', data=defined_macro_info_df))\n",
    "print(defined_macro_info_df)\n",
    "\n"
   ]
  },
  {
   "cell_type": "markdown",
   "metadata": {},
   "source": [
    "## Information of Used Macros"
   ]
  },
  {
   "cell_type": "code",
   "execution_count": 7,
   "metadata": {},
   "outputs": [
    {
     "name": "stdout",
     "output_type": "stream",
     "text": [
      "  project name  file num  variaty of macro num    mean  median   variance  \\\n",
      "0      radare2      1339                  6183  12.344     7.0    624.342   \n",
      "1        nginx       271                  1006  20.882    16.0    423.653   \n",
      "2     goaccess        30                   304  15.500     7.0    314.400   \n",
      "3          nnn         3                   270  92.700    11.0  21772.300   \n",
      "4          ish       121                   828  14.230     7.0    354.830   \n",
      "5       brotli        62                   129   5.080     2.0     48.500   \n",
      "\n",
      "     stdev  \n",
      "0   24.987  \n",
      "1   20.583  \n",
      "2   17.730  \n",
      "3  147.600  \n",
      "4   18.840  \n",
      "5    6.960  \n"
     ]
    }
   ],
   "source": [
    "used_macro_info_df = show_number_in_each_file(used_macro_df)\n",
    "tvc.save_as_table(TableProps(title='used macro per file info', file_name='used_macro_info', data=used_macro_info_df))\n",
    "print(used_macro_info_df)"
   ]
  },
  {
   "cell_type": "code",
   "execution_count": null,
   "metadata": {},
   "outputs": [],
   "source": []
  }
 ],
 "metadata": {
  "kernelspec": {
   "display_name": "Python 3.10.3 ('.venv': venv)",
   "language": "python",
   "name": "python3"
  },
  "language_info": {
   "codemirror_mode": {
    "name": "ipython",
    "version": 3
   },
   "file_extension": ".py",
   "mimetype": "text/x-python",
   "name": "python",
   "nbconvert_exporter": "python",
   "pygments_lexer": "ipython3",
   "version": "3.10.3"
  },
  "orig_nbformat": 4,
  "vscode": {
   "interpreter": {
    "hash": "271ff027a37cd56aba66bd5e709e5a074ab185bb41981163efbf7c974e3e0d54"
   }
  }
 },
 "nbformat": 4,
 "nbformat_minor": 2
}
