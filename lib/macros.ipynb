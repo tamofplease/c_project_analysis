{
 "cells": [
  {
   "cell_type": "code",
   "execution_count": 48,
   "metadata": {},
   "outputs": [
    {
     "name": "stdout",
     "output_type": "stream",
     "text": [
      "2203\n"
     ]
    }
   ],
   "source": [
    "import pandas as pd\n",
    "from util.table_converter import TableConverter, TableProps;\n",
    "from generator.constant import Constant\n",
    "\n",
    "macro_root_path = Constant.output_root_path + '/' + 'macros.csv'\n",
    "\n",
    "macros_df = pd.read_csv(macro_root_path)\n",
    "\n",
    "tgt = macros_df.groupby('key')['value'].apply(list).drop(index=['#define', '(\"#define'])\n",
    "def val(l):\n",
    "    res = ['\\\\' in str(tt) for tt in l]\n",
    "    return not any(res)\n",
    "data = {k: t for k, t in tgt.items() if len(t) > 1 and val(t)}\n",
    "# print(data)\n",
    "print(len(data))\n",
    "\n",
    "\n"
   ]
  },
  {
   "cell_type": "code",
   "execution_count": null,
   "metadata": {},
   "outputs": [],
   "source": []
  }
 ],
 "metadata": {
  "kernelspec": {
   "display_name": "Python 3.10.3 ('.venv': venv)",
   "language": "python",
   "name": "python3"
  },
  "language_info": {
   "codemirror_mode": {
    "name": "ipython",
    "version": 3
   },
   "file_extension": ".py",
   "mimetype": "text/x-python",
   "name": "python",
   "nbconvert_exporter": "python",
   "pygments_lexer": "ipython3",
   "version": "3.10.3"
  },
  "orig_nbformat": 4,
  "vscode": {
   "interpreter": {
    "hash": "cc3637f54e9abe6a6c55a0c8eaadc317a52a5ae15cdac0779c5fe90977694b15"
   }
  }
 },
 "nbformat": 4,
 "nbformat_minor": 2
}
