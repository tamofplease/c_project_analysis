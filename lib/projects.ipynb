{
 "cells": [
  {
   "cell_type": "markdown",
   "metadata": {},
   "source": [
    "## Domain of Projects"
   ]
  },
  {
   "cell_type": "code",
   "execution_count": 1,
   "metadata": {},
   "outputs": [],
   "source": [
    "from os import path\n",
    "import pandas as pd\n",
    "from glob import glob\n",
    "from tqdm import tqdm\n",
    "from generator.constant import Constant\n",
    "from util.table_converter import TableConverter, TableProps;\n",
    "\n",
    "df = pd.read_csv('../list.tsv', header=0, sep='\\t')\n",
    "\n",
    "tvc = TableConverter()\n",
    "tvc.save_as_table(TableProps(title=\"Target projects\", file_name=\"target_projects_table\", data=df))"
   ]
  },
  {
   "cell_type": "markdown",
   "metadata": {},
   "source": [
    "## How Many Files in each projects"
   ]
  },
  {
   "cell_type": "code",
   "execution_count": 2,
   "metadata": {},
   "outputs": [],
   "source": [
    "from os import path\n",
    "import pandas as pd\n",
    "from glob import glob\n",
    "from generator.constant import Constant\n",
    "\n",
    "target_project_names = list(map(lambda s : s.split('/')[-1].split('.')[0] ,glob('../compile_information/*.json')))\n",
    "\n",
    "local_project_root_path = Constant.local_project_root_path\n",
    "\n",
    "file_num_df = pd.DataFrame(columns=['projectName', 'cFiles', 'hFiles', 'allFiles', 'targetRate'])\n",
    "\n",
    "for target_project_name in target_project_names:\n",
    "    target_project_root = local_project_root_path + '/' + target_project_name\n",
    "    if not path.exists(target_project_root):\n",
    "        continue\n",
    "    c_files = glob('{}/**/*.c'.format(target_project_root), recursive=True)\n",
    "    h_files = glob('{}/**/*.h'.format(target_project_root), recursive=True)\n",
    "    all_files = glob('{}/**/*'.format(target_project_root), recursive=True)\n",
    "    file_num_df = pd.concat([file_num_df, pd.DataFrame([[target_project_name, len(c_files), len(h_files), len(all_files), (len(c_files) + len(h_files)) / len(all_files)]], columns=file_num_df.columns)], ignore_index=True)\n",
    "\n",
    "tvc = TableConverter()\n",
    "tvc.save_as_table(TableProps(title=\"Target project files\", file_name=\"target_projects_files_table\", data=file_num_df))\n",
    "\n"
   ]
  },
  {
   "cell_type": "markdown",
   "metadata": {},
   "source": [
    "## Project Detail for SES "
   ]
  },
  {
   "cell_type": "code",
   "execution_count": 3,
   "metadata": {},
   "outputs": [
    {
     "name": "stdout",
     "output_type": "stream",
     "text": [
      "['radare2', 'ish', 'goaccess', 'brotli', 'nnn', 'nginx']\n"
     ]
    },
    {
     "name": "stderr",
     "output_type": "stream",
     "text": [
      "  0%|          | 0/6 [00:00<?, ?it/s]"
     ]
    },
    {
     "name": "stdout",
     "output_type": "stream",
     "text": [
      "/Users/tamofplease/Workspace/research/c_project_analysis/project/radare2\n"
     ]
    },
    {
     "name": "stderr",
     "output_type": "stream",
     "text": [
      "100%|██████████| 6/6 [00:00<00:00, 15.89it/s]"
     ]
    },
    {
     "name": "stdout",
     "output_type": "stream",
     "text": [
      "radare2 878229\n",
      "/Users/tamofplease/Workspace/research/c_project_analysis/project/ish\n",
      "ish 33274\n",
      "/Users/tamofplease/Workspace/research/c_project_analysis/project/goaccess\n",
      "goaccess 36339\n",
      "/Users/tamofplease/Workspace/research/c_project_analysis/project/brotli\n",
      "brotli 36930\n",
      "/Users/tamofplease/Workspace/research/c_project_analysis/project/nnn\n",
      "nnn 13980\n",
      "/Users/tamofplease/Workspace/research/c_project_analysis/project/nginx\n",
      "nginx 204630\n"
     ]
    },
    {
     "name": "stderr",
     "output_type": "stream",
     "text": [
      "\n"
     ]
    }
   ],
   "source": [
    "local_project_root_path = Constant.local_project_root_path\n",
    "\n",
    "target_project_names = [file for file in list(map(lambda s : s.split('/')[-1].split('.')[0] ,glob('../compile_information/*.json'))) if not (file == 'template' or file == 'compile_information')]\n",
    "print(target_project_names)\n",
    "for target_project_name in tqdm(target_project_names):\n",
    "    target_project_root = local_project_root_path + '/' + target_project_name\n",
    "    print(target_project_root)\n",
    "    target_project_root.replace('project', 'out/format')\n",
    "    if not path.exists(target_project_root):\n",
    "        continue\n",
    "    c_files = glob('{}/**/*.c'.format(target_project_root), recursive=True)\n",
    "    h_files = glob('{}/**/*.h'.format(target_project_root), recursive=True)\n",
    "    c_or_h_files = c_files + h_files\n",
    "    res = 0\n",
    "    for file in c_or_h_files:\n",
    "        with open(file, mode='r') as f:\n",
    "            res += len(f.readlines())\n",
    "    print(target_project_name, res)\n",
    "\n",
    "# file_num_df = pd.DataFrame(columns=['projectName', 'Commit Hash', 'Star', 'LOC'])\n",
    "\n",
    "# vc = TableConverter()\n",
    "# tvc.save_as_table(TableProps(title=\"Target project files\", file_name=\"target_projects_files_table\", data=file_num_df))\n"
   ]
  },
  {
   "cell_type": "code",
   "execution_count": null,
   "metadata": {},
   "outputs": [],
   "source": []
  },
  {
   "cell_type": "code",
   "execution_count": null,
   "metadata": {},
   "outputs": [],
   "source": []
  }
 ],
 "metadata": {
  "kernelspec": {
   "display_name": "Python 3.10.3 ('.venv': venv)",
   "language": "python",
   "name": "python3"
  },
  "language_info": {
   "codemirror_mode": {
    "name": "ipython",
    "version": 3
   },
   "file_extension": ".py",
   "mimetype": "text/x-python",
   "name": "python",
   "nbconvert_exporter": "python",
   "pygments_lexer": "ipython3",
   "version": "3.10.3"
  },
  "orig_nbformat": 4,
  "vscode": {
   "interpreter": {
    "hash": "271ff027a37cd56aba66bd5e709e5a074ab185bb41981163efbf7c974e3e0d54"
   }
  }
 },
 "nbformat": 4,
 "nbformat_minor": 2
}
