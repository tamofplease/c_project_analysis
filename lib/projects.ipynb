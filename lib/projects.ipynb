{
 "cells": [
  {
   "cell_type": "markdown",
   "metadata": {},
   "source": [
    "## Domain of Projects"
   ]
  },
  {
   "cell_type": "code",
   "execution_count": 1,
   "metadata": {},
   "outputs": [],
   "source": [
    "import pandas as pd;\n",
    "from util.table_converter import TableConverter, TableProps;\n",
    "\n",
    "df = pd.read_csv('../list.tsv', header=0, sep='\\t')\n",
    "\n",
    "tvc = TableConverter()\n",
    "tvc.save_as_table(TableProps(title=\"Target projects\", file_name=\"target_projects_table\", data=df))"
   ]
  },
  {
   "cell_type": "markdown",
   "metadata": {},
   "source": [
    "## How Many Files in each projects"
   ]
  },
  {
   "cell_type": "code",
   "execution_count": 30,
   "metadata": {},
   "outputs": [],
   "source": [
    "from os import path\n",
    "import pandas as pd\n",
    "from glob import glob\n",
    "from generator.constant import Constant\n",
    "\n",
    "target_project_names = list(map(lambda s : s.split('/')[-1].split('.')[0] ,glob('../compile_information/*.json')))\n",
    "\n",
    "local_project_root_path = Constant.local_project_root_path\n",
    "\n",
    "file_num_df = pd.DataFrame(columns=['projectName', 'cFiles', 'hFiles', 'allFiles', 'targetRate'])\n",
    "\n",
    "for target_project_name in target_project_names:\n",
    "    target_project_root = local_project_root_path + '/' + target_project_name\n",
    "    if not path.exists(target_project_root):\n",
    "        continue\n",
    "    c_files = glob('{}/**/*.c'.format(target_project_root), recursive=True)\n",
    "    h_files = glob('{}/**/*.h'.format(target_project_root), recursive=True)\n",
    "    all_files = glob('{}/**/*'.format(target_project_root), recursive=True)\n",
    "    file_num_df = pd.concat([file_num_df, pd.DataFrame([[target_project_name, len(c_files), len(h_files), len(all_files), (len(c_files) + len(h_files)) / len(all_files)]], columns=file_num_df.columns)], ignore_index=True)\n",
    "\n",
    "tvc = TableConverter()\n",
    "tvc.save_as_table(TableProps(title=\"Target project files\", file_name=\"target_projects_files_table\", data=file_num_df))\n",
    "\n"
   ]
  },
  {
   "cell_type": "code",
   "execution_count": null,
   "metadata": {},
   "outputs": [],
   "source": []
  }
 ],
 "metadata": {
  "kernelspec": {
   "display_name": "Python 3.10.3 ('.venv': venv)",
   "language": "python",
   "name": "python3"
  },
  "language_info": {
   "codemirror_mode": {
    "name": "ipython",
    "version": 3
   },
   "file_extension": ".py",
   "mimetype": "text/x-python",
   "name": "python",
   "nbconvert_exporter": "python",
   "pygments_lexer": "ipython3",
   "version": "3.10.3"
  },
  "orig_nbformat": 4,
  "vscode": {
   "interpreter": {
    "hash": "cc3637f54e9abe6a6c55a0c8eaadc317a52a5ae15cdac0779c5fe90977694b15"
   }
  }
 },
 "nbformat": 4,
 "nbformat_minor": 2
}
