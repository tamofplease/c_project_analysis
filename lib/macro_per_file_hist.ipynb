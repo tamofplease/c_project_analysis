{
 "cells": [
  {
   "cell_type": "code",
   "execution_count": null,
   "metadata": {},
   "outputs": [],
   "source": []
  }
 ],
 "metadata": {
  "kernelspec": {
   "display_name": "Python 3.9.13 ('.venv': venv)",
   "language": "python",
   "name": "python3"
  },
  "language_info": {
   "name": "python",
   "version": "3.10.3"
  },
  "orig_nbformat": 4,
  "vscode": {
   "interpreter": {
    "hash": "271ff027a37cd56aba66bd5e709e5a074ab185bb41981163efbf7c974e3e0d54"
   }
  }
 },
 "nbformat": 4,
 "nbformat_minor": 2
}
