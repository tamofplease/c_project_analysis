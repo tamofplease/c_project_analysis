{
 "cells": [
  {
   "cell_type": "code",
   "execution_count": null,
   "metadata": {},
   "outputs": [],
   "source": []
  }
 ],
 "metadata": {
  "kernelspec": {
   "display_name": "Python 3.10.3 ('.venv': venv)",
   "language": "python",
   "name": "python3"
  },
  "language_info": {
   "name": "python",
   "version": "3.10.3"
  },
  "orig_nbformat": 4,
  "vscode": {
   "interpreter": {
    "hash": "cc3637f54e9abe6a6c55a0c8eaadc317a52a5ae15cdac0779c5fe90977694b15"
   }
  }
 },
 "nbformat": 4,
 "nbformat_minor": 2
}
