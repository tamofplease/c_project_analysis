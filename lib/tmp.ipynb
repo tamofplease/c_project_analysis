{
 "cells": [
  {
   "cell_type": "code",
   "execution_count": 1,
   "metadata": {},
   "outputs": [],
   "source": [
    "from os import path\n",
    "import pandas as pd\n",
    "import matplotlib.pyplot as plt\n",
    "from glob import glob\n",
    "from util.table_converter import TableConverter, TableProps;\n",
    "from generator.constant import Constant\n",
    "from statistics import mean, median, variance, stdev\n"
   ]
  },
  {
   "cell_type": "code",
   "execution_count": 2,
   "metadata": {},
   "outputs": [],
   "source": [
    "target_project_names = list(map(lambda s : s.split('/')[-1].split('.')[0], glob('../compile_information/*.json')))\n",
    "target_project_names.remove('template')\n",
    "target_project_names.remove('compile_information')\n",
    "\n",
    "target_project_root_paths = [Constant.local_project_root_path + '/' + tpn for tpn in target_project_names]\n",
    "\n",
    "project_root_path = Constant.output_root_path + '/' + 'project.csv'\n",
    "project_df = pd.read_csv(project_root_path)\n",
    "\n",
    "file_root_path = Constant.output_root_path + '/' + 'file.csv'\n",
    "file_df = pd.read_csv(file_root_path)\n",
    "\n",
    "available_macro_root_path = Constant.output_root_path + '/' + 'available_macros.csv'\n",
    "available_macro_df = pd.read_csv(available_macro_root_path)\n",
    "\n",
    "used_macro_root_path = Constant.output_root_path + '/' + 'used_macros.csv'\n",
    "used_macro_df = pd.read_csv(used_macro_root_path)\n",
    "\n",
    "defined_macro_root_path = Constant.output_root_path + '/' + 'defined_macros.csv'\n",
    "defined_macro_df = pd.read_csv(defined_macro_root_path)\n",
    "\n",
    "whole_macro_root_path = Constant.output_root_path + '/' + 'whole_macros.csv'\n",
    "whole_macro_df = pd.read_csv(whole_macro_root_path)\n",
    "\n",
    "macros_root_path =Constant.output_root_path + '/' + 'macros.csv'\n",
    "macros_df = pd.read_csv(macros_root_path)\n",
    "\n",
    "tvc = TableConverter()\n"
   ]
  },
  {
   "cell_type": "code",
   "execution_count": 19,
   "metadata": {},
   "outputs": [
    {
     "name": "stderr",
     "output_type": "stream",
     "text": [
      "/var/folders/ky/29c6sszs2q1gbgmgjykxnndh0000gn/T/ipykernel_80023/2808959565.py:10: FutureWarning: The frame.append method is deprecated and will be removed from pandas in a future version. Use pandas.concat instead.\n",
      "  macros = macros.append(macros_df.loc[macros_df['id'] == dif], ignore_index=True)\n"
     ]
    }
   ],
   "source": [
    "file_macro_df = pd.merge(available_macro_df, file_df, on='file_id', how='left')\n",
    "# 4\n",
    "res = set()\n",
    "for p_id in [2, 3, 5, 9, 16, 19]:\n",
    "    res = set(file_macro_df.loc[file_macro_df['project_id'] == p_id]['macro_id'].unique())\n",
    "tgt = set(file_macro_df.loc[file_macro_df['project_id'] == 4]['macro_id'].unique())\n",
    "diff = tgt - res\n",
    "macros = pd.DataFrame(columns=['id', 'key', 'value'])\n",
    "for dif in diff:\n",
    "    macros = macros.append(macros_df.loc[macros_df['id'] == dif], ignore_index=True)\n",
    "macros.sort_values(by=['id'])\n",
    "macros.to_csv('./mimicatz_only.csv')"
   ]
  },
  {
   "cell_type": "code",
   "execution_count": null,
   "metadata": {},
   "outputs": [],
   "source": []
  }
 ],
 "metadata": {
  "kernelspec": {
   "display_name": "Python 3.10.3 ('.venv': venv)",
   "language": "python",
   "name": "python3"
  },
  "language_info": {
   "codemirror_mode": {
    "name": "ipython",
    "version": 3
   },
   "file_extension": ".py",
   "mimetype": "text/x-python",
   "name": "python",
   "nbconvert_exporter": "python",
   "pygments_lexer": "ipython3",
   "version": "3.10.3"
  },
  "orig_nbformat": 4,
  "vscode": {
   "interpreter": {
    "hash": "271ff027a37cd56aba66bd5e709e5a074ab185bb41981163efbf7c974e3e0d54"
   }
  }
 },
 "nbformat": 4,
 "nbformat_minor": 2
}
